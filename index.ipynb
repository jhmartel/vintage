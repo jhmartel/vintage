{
 "cells": [
  {
   "cell_type": "raw",
   "id": "35b46aa3-7e1c-4b05-8bc7-eedd86b11b58",
   "metadata": {},
   "source": [
    "---\n",
    "title: \"How to Sell Vintage Clothes with Generative Matchmaking\"\n",
    "author: \"JHM\"\n",
    "date: \"2023-06-10\"\n",
    "categories: [matchmaking]\n",
    "description: \"There is a gap between supply and demand in the vintage clothing market which we look to close using generative matchmaking. Work in progress.\"\n",
    "---"
   ]
  },
  {
   "cell_type": "markdown",
   "id": "58f4998c-3d7a-461a-b5f7-864475db05ff",
   "metadata": {},
   "source": [
    "# *How to Sell Vintage Clothing with Generative Matchmaking*\n",
    "\n",
    "The vintage clothing market suffers from a large gap between supply and demand, especially with respect to quality *used men*'s clothing. \n",
    "\n",
    "In this memo we are specifically interested in *male buyers*, and we propose that a distinct strategy needs be developed to connect vintage markets to male buyers. However the strategies here outlined *do* naturally extend to strategy for *all* buyers.  \n",
    "\n",
    "The popular idiom is that \"women shop. men buy.\"\n",
    "\n",
    "The standard model for vintage storefront is: you have random clothes in racks, you expect buyers to show up on location, search through the racks, identify an item which appeals to them which they are willing to purchase at the market price. There appears to us many potential \"points of failure\" in the chain of sale.\n",
    "\n",
    "Remark on the psychological element here. Basically men are mission oriented and judgemental. They do not want to waste their time searching through random racks for items that may or may not be there, which may or may not fit, at this or that price, etc.. Other people find this part of vintage hunting fun, but our working assumption is that the majority of men do *not* enjoy this. This makes for significant barrier between male buyers and the vintage stores, which we overcome. \n",
    "\n",
    "The barrier is removed by *proactively generating* suggestions to the men. Our goal is to be matchmakers, and connect the market. Men *want* to look good, and vintage shops are *able* to make them look good. This is our objective.\n",
    "\n",
    "Remark. Don't expect men to walk through the door! During standard day time hours the men buyers are working, dirty, far away. You won't see them walking through the door. But they have cash, and they want to look good, they're just dead tired.\n",
    "\n",
    "Men want to immediately be catered to. In and out. A client shows up, with a profile, with some portfolio for their style, and you have to generate matchings for them from the available stockpile supply. *You (the vintage seller) has to know what the client wants before they show up!* \n",
    "\n",
    "And here enters the opportunity for a generative model.\n",
    "\n",
    "# Statement of Problem\n",
    "\n",
    "In the vintage problem we want to construct and generate the utility \"preference\" pairings $b(x,y)$ between item $x$ and buyer $y$. \n",
    "\n",
    "The function $b$ is some qualitative (!) measure of the \"temperature\" $b(x,y)$ of buyer $y$ towards an item $x$. Naturally the seller looks to maximize the temperature, and emphasize (\"market, target, upsell\") those items which make the client \"warm\".\n",
    "\n",
    "The challenge is to generate this temperature $b$, to know the supply items $x$ which even appeal to the buyer $y$, and even know the temperatures of items with confidence before the buyer walks into the store and sees the item!\n",
    "\n",
    "\n",
    "The vintage seller has a supply $X$, which is not well known and very opaque to the buyers $Y$. A buyer $y$ walks into the store, they have a null feeling to mostly everything. What can they immediately see/perceive about the supply? If there is mannequin, they might react. But if the mannequins are \"up high\" then it's not clear that they are for sale.\n",
    "\n",
    "From the other point of view, the vintage seller has no sense of the client's preferences. The vintage seller likely doesn't know the buyer even existed before they physically walked into the store. But again, we claim the vintage seller has to have items ready for clients *before* they walk through the door. This means predicting $b(x,y)$ the basic \"preference pairing\" with confidence. \n",
    "\n",
    "To generate the pairing $b$ is a standard exercise in machine learning these days *if* we specify the model, and if we can effectively \"train\" the generator. This problem is discussed below.\n",
    "\n",
    "# Parameters, Mannequins, and Know Your Audience.\n",
    "\n",
    "*What are the relevant numerical statistics in the vintage problem?*\n",
    "\n",
    "Evidently the buyer has personal features, like their height, waist size, etc. (physical dimensions), but also their aesthetics or style palette, etc. Personally i like matching colour combinations, even of purples and reds and extreme colours, and that's what i'm looking for. But how would the vintage seller know that?\n",
    "\n",
    "Specifically, a buyer could walk in the door, we share their instagram, then we examine and review and extract the style palette from the user's instragram, and then generate a supply recommendation for the client.  \n",
    "\n",
    "\n",
    "We think that men specifically want a customized mannequin, they want the vintage store to dress the mannequin completely in outfits and ensembles which appeal to the preferences of the buyer. Is it too much to ask?\n",
    "\n",
    "Instagram is filled with girls who pick and sell vintage clothing. Here \"vintage\" could mean a premium literally \"vintage\" limited edition shirt, or vintage could mean a quality used clothing item which typically is not in production anymore. These sellers have a large supply of clothing, i.e. large stockpile. They pick from huge random bins alongside other pickers, and it's not at all clear what's going to sell. And who are they picking for?\n",
    "\n",
    "This is a direct question to ask: do vintage stores pick clothes with the *hope* that the item is going to sell, with the hope that the right person is going to walk through the door and fall in love with it? We can do better.\n",
    "\n",
    "\n",
    "\n",
    "\n"
   ]
  },
  {
   "cell_type": "markdown",
   "id": "e17a29de-5a4e-40c7-8d54-92f5b80a841b",
   "metadata": {},
   "source": [
    "# Questions\n",
    "\n",
    "*What does the \"picking environment\" look like these days?* \n",
    "\n",
    "I've been told all the bins have already been picked over, that quality items are not readily found. Ourselves we also imagine the picking environment is frantic and the supply is random. This makes it difficult for the vintage sellers to *choose* those items which form their selling supply. Vintage sellers need make frantic hurried snap judgements on the items, based on their own tastes and impressions. It's possible that the sellers have their own style templates, and motifs in their minds, either explicitly or implicitly. Our goal in this project is to somehow make the motifs and style templates more explicit and descriptive. \n",
    "\n",
    "\n",
    "*Buyers have almost no visibility into the supply of vintage sellers*\n",
    "\n",
    "There is significant bottleneck in the vintage setting. Vintage collectors have large collections which are unseen and which cannot really be queried by potential buyers. In the usual storefront setting, items are sold only if the item is placed on the rack, and the buyer enters the store, browses the rack, sees an item, recognizes that they want the item, and decides to purchase. \n",
    "\n",
    "Too many steps here! The seller should know what to sell the client before they enter the store!\n",
    "\n",
    "We think it's a losing or limited strategy to rely on people physically browsing through the racks in the storefront. We can do better. \n",
    "\n",
    "The purpose of the generative model is to have recommendations for the buyers before they even enter the store! The buyers have a taste profile, and candidate items which positively correlate with the taste profile need be suggested to the buyers. Easier said than done, but we see a way.\n",
    "\n",
    "\n"
   ]
  },
  {
   "cell_type": "markdown",
   "id": "4e55b0bd-3e54-4f88-976e-2ff7361f9102",
   "metadata": {},
   "source": [
    "# (In Preparation) Tailoring, Golden Ratios, and Surprising Proportions\n",
    "\n",
    "There are surprising ratios in the human body. These ratios allow us to decide whether a pair of pants fits the waist by wrapping the pants around your neck! We should like to collect a list of all these \"surprising proportions\" in the human body.\n",
    "\n",
    "(How to actually sell used men's suits. Need automatic tailoring measurements!)\n",
    "\n"
   ]
  }
 ],
 "metadata": {
  "kernelspec": {
   "display_name": "Python 3",
   "language": "python",
   "name": "python3"
  },
  "language_info": {
   "codemirror_mode": {
    "name": "ipython",
    "version": 3
   },
   "file_extension": ".py",
   "mimetype": "text/x-python",
   "name": "python",
   "nbconvert_exporter": "python",
   "pygments_lexer": "ipython3",
   "version": "3.9.5"
  }
 },
 "nbformat": 4,
 "nbformat_minor": 5
}
